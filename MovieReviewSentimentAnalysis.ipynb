{
  "nbformat": 4,
  "nbformat_minor": 0,
  "metadata": {
    "colab": {
      "name": "MovieReviewSentimentAnalysis.ipynb",
      "provenance": [],
      "collapsed_sections": []
    },
    "kernelspec": {
      "name": "python3",
      "display_name": "Python 3"
    },
    "accelerator": "GPU"
  },
  "cells": [
    {
      "cell_type": "code",
      "metadata": {
        "colab": {
          "resources": {
            "http://localhost:8080/nbextensions/google.colab/files.js": {
              "data": "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",
              "ok": true,
              "headers": [
                [
                  "content-type",
                  "application/javascript"
                ]
              ],
              "status": 200,
              "status_text": ""
            }
          },
          "base_uri": "https://localhost:8080/",
          "height": 403
        },
        "id": "6vXHoAQs26zy",
        "outputId": "dbb42a9f-47ef-44f1-ae02-d9b67536926d"
      },
      "source": [
        "from google.colab import files\r\n",
        "files.upload()\r\n",
        "# check to see if the file is there\r\n",
        "!ls -lha kaggle.json\r\n",
        "# install Kaggle API\r\n",
        "!pip install kaggle --upgrade\r\n",
        "# move file\r\n",
        "!mkdir -p ~/.kaggle\r\n",
        "!cp kaggle.json ~/.kaggle/\r\n",
        "# change permissions\r\n",
        "!chmod 600 ~/.kaggle/kaggle.json\r\n",
        "# download dataset \r\n",
        "!kaggle datasets download -d columbine/imdb-dataset-sentiment-analysis-in-csv-format\r\n",
        "#unzip dataset\r\n",
        "!unzip imdb-dataset-sentiment-analysis-in-csv-format.zip"
      ],
      "execution_count": null,
      "outputs": [
        {
          "output_type": "display_data",
          "data": {
            "text/html": [
              "\n",
              "     <input type=\"file\" id=\"files-70c6b747-9ea7-4a4c-9f95-6b4c9f0175c3\" name=\"files[]\" multiple disabled\n",
              "        style=\"border:none\" />\n",
              "     <output id=\"result-70c6b747-9ea7-4a4c-9f95-6b4c9f0175c3\">\n",
              "      Upload widget is only available when the cell has been executed in the\n",
              "      current browser session. Please rerun this cell to enable.\n",
              "      </output>\n",
              "      <script src=\"/nbextensions/google.colab/files.js\"></script> "
            ],
            "text/plain": [
              "<IPython.core.display.HTML object>"
            ]
          },
          "metadata": {
            "tags": []
          }
        },
        {
          "output_type": "stream",
          "text": [
            "Saving kaggle.json to kaggle.json\n",
            "-rw-r--r-- 1 root root 64 Jan  4 16:45 kaggle.json\n",
            "Requirement already up-to-date: kaggle in /usr/local/lib/python3.6/dist-packages (1.5.10)\n",
            "Requirement already satisfied, skipping upgrade: certifi in /usr/local/lib/python3.6/dist-packages (from kaggle) (2020.12.5)\n",
            "Requirement already satisfied, skipping upgrade: requests in /usr/local/lib/python3.6/dist-packages (from kaggle) (2.23.0)\n",
            "Requirement already satisfied, skipping upgrade: python-slugify in /usr/local/lib/python3.6/dist-packages (from kaggle) (4.0.1)\n",
            "Requirement already satisfied, skipping upgrade: tqdm in /usr/local/lib/python3.6/dist-packages (from kaggle) (4.41.1)\n",
            "Requirement already satisfied, skipping upgrade: urllib3 in /usr/local/lib/python3.6/dist-packages (from kaggle) (1.24.3)\n",
            "Requirement already satisfied, skipping upgrade: six>=1.10 in /usr/local/lib/python3.6/dist-packages (from kaggle) (1.15.0)\n",
            "Requirement already satisfied, skipping upgrade: python-dateutil in /usr/local/lib/python3.6/dist-packages (from kaggle) (2.8.1)\n",
            "Requirement already satisfied, skipping upgrade: chardet<4,>=3.0.2 in /usr/local/lib/python3.6/dist-packages (from requests->kaggle) (3.0.4)\n",
            "Requirement already satisfied, skipping upgrade: idna<3,>=2.5 in /usr/local/lib/python3.6/dist-packages (from requests->kaggle) (2.10)\n",
            "Requirement already satisfied, skipping upgrade: text-unidecode>=1.3 in /usr/local/lib/python3.6/dist-packages (from python-slugify->kaggle) (1.3)\n",
            "Downloading imdb-dataset-sentiment-analysis-in-csv-format.zip to /content\n",
            " 35% 9.00M/25.7M [00:00<00:00, 25.1MB/s]\n",
            "100% 25.7M/25.7M [00:00<00:00, 57.9MB/s]\n",
            "Archive:  imdb-dataset-sentiment-analysis-in-csv-format.zip\n",
            "  inflating: Test.csv                \n",
            "  inflating: Train.csv               \n",
            "  inflating: Valid.csv               \n"
          ],
          "name": "stdout"
        }
      ]
    },
    {
      "cell_type": "code",
      "metadata": {
        "id": "Y-cUBsde29CX",
        "colab": {
          "base_uri": "https://localhost:8080/",
          "height": 355
        },
        "outputId": "1415d9b4-c6d3-42be-e4a6-7aaf19f44bd5"
      },
      "source": [
        "import pandas as pd\r\n",
        "training= pd.read_csv('Train.csv', sep=',')\r\n",
        "training.head(10)"
      ],
      "execution_count": null,
      "outputs": [
        {
          "output_type": "execute_result",
          "data": {
            "text/html": [
              "<div>\n",
              "<style scoped>\n",
              "    .dataframe tbody tr th:only-of-type {\n",
              "        vertical-align: middle;\n",
              "    }\n",
              "\n",
              "    .dataframe tbody tr th {\n",
              "        vertical-align: top;\n",
              "    }\n",
              "\n",
              "    .dataframe thead th {\n",
              "        text-align: right;\n",
              "    }\n",
              "</style>\n",
              "<table border=\"1\" class=\"dataframe\">\n",
              "  <thead>\n",
              "    <tr style=\"text-align: right;\">\n",
              "      <th></th>\n",
              "      <th>text</th>\n",
              "      <th>label</th>\n",
              "    </tr>\n",
              "  </thead>\n",
              "  <tbody>\n",
              "    <tr>\n",
              "      <th>0</th>\n",
              "      <td>I grew up (b. 1965) watching and loving the Th...</td>\n",
              "      <td>0</td>\n",
              "    </tr>\n",
              "    <tr>\n",
              "      <th>1</th>\n",
              "      <td>When I put this movie in my DVD player, and sa...</td>\n",
              "      <td>0</td>\n",
              "    </tr>\n",
              "    <tr>\n",
              "      <th>2</th>\n",
              "      <td>Why do people who do not know what a particula...</td>\n",
              "      <td>0</td>\n",
              "    </tr>\n",
              "    <tr>\n",
              "      <th>3</th>\n",
              "      <td>Even though I have great interest in Biblical ...</td>\n",
              "      <td>0</td>\n",
              "    </tr>\n",
              "    <tr>\n",
              "      <th>4</th>\n",
              "      <td>Im a die hard Dads Army fan and nothing will e...</td>\n",
              "      <td>1</td>\n",
              "    </tr>\n",
              "    <tr>\n",
              "      <th>5</th>\n",
              "      <td>A terrible movie as everyone has said. What ma...</td>\n",
              "      <td>0</td>\n",
              "    </tr>\n",
              "    <tr>\n",
              "      <th>6</th>\n",
              "      <td>Finally watched this shocking movie last night...</td>\n",
              "      <td>1</td>\n",
              "    </tr>\n",
              "    <tr>\n",
              "      <th>7</th>\n",
              "      <td>I caught this film on AZN on cable. It sounded...</td>\n",
              "      <td>0</td>\n",
              "    </tr>\n",
              "    <tr>\n",
              "      <th>8</th>\n",
              "      <td>It may be the remake of 1987 Autumn's Tale aft...</td>\n",
              "      <td>1</td>\n",
              "    </tr>\n",
              "    <tr>\n",
              "      <th>9</th>\n",
              "      <td>My Super Ex Girlfriend turned out to be a plea...</td>\n",
              "      <td>1</td>\n",
              "    </tr>\n",
              "  </tbody>\n",
              "</table>\n",
              "</div>"
            ],
            "text/plain": [
              "                                                text  label\n",
              "0  I grew up (b. 1965) watching and loving the Th...      0\n",
              "1  When I put this movie in my DVD player, and sa...      0\n",
              "2  Why do people who do not know what a particula...      0\n",
              "3  Even though I have great interest in Biblical ...      0\n",
              "4  Im a die hard Dads Army fan and nothing will e...      1\n",
              "5  A terrible movie as everyone has said. What ma...      0\n",
              "6  Finally watched this shocking movie last night...      1\n",
              "7  I caught this film on AZN on cable. It sounded...      0\n",
              "8  It may be the remake of 1987 Autumn's Tale aft...      1\n",
              "9  My Super Ex Girlfriend turned out to be a plea...      1"
            ]
          },
          "metadata": {
            "tags": []
          },
          "execution_count": 30
        }
      ]
    },
    {
      "cell_type": "code",
      "metadata": {
        "colab": {
          "base_uri": "https://localhost:8080/",
          "height": 355
        },
        "id": "AMIkpx-Dx4Aj",
        "outputId": "233c49fe-20b3-449c-ce54-dd93640a50ed"
      },
      "source": [
        "validation = pd.read_csv('Valid.csv', sep = ',')\r\n",
        "validation.head(10)"
      ],
      "execution_count": null,
      "outputs": [
        {
          "output_type": "execute_result",
          "data": {
            "text/html": [
              "<div>\n",
              "<style scoped>\n",
              "    .dataframe tbody tr th:only-of-type {\n",
              "        vertical-align: middle;\n",
              "    }\n",
              "\n",
              "    .dataframe tbody tr th {\n",
              "        vertical-align: top;\n",
              "    }\n",
              "\n",
              "    .dataframe thead th {\n",
              "        text-align: right;\n",
              "    }\n",
              "</style>\n",
              "<table border=\"1\" class=\"dataframe\">\n",
              "  <thead>\n",
              "    <tr style=\"text-align: right;\">\n",
              "      <th></th>\n",
              "      <th>text</th>\n",
              "      <th>label</th>\n",
              "    </tr>\n",
              "  </thead>\n",
              "  <tbody>\n",
              "    <tr>\n",
              "      <th>0</th>\n",
              "      <td>It's been about 14 years since Sharon Stone aw...</td>\n",
              "      <td>0</td>\n",
              "    </tr>\n",
              "    <tr>\n",
              "      <th>1</th>\n",
              "      <td>someone needed to make a car payment... this i...</td>\n",
              "      <td>0</td>\n",
              "    </tr>\n",
              "    <tr>\n",
              "      <th>2</th>\n",
              "      <td>The Guidelines state that a comment must conta...</td>\n",
              "      <td>0</td>\n",
              "    </tr>\n",
              "    <tr>\n",
              "      <th>3</th>\n",
              "      <td>This movie is a muddled mish-mash of clichés f...</td>\n",
              "      <td>0</td>\n",
              "    </tr>\n",
              "    <tr>\n",
              "      <th>4</th>\n",
              "      <td>Before Stan Laurel became the smaller half of ...</td>\n",
              "      <td>0</td>\n",
              "    </tr>\n",
              "    <tr>\n",
              "      <th>5</th>\n",
              "      <td>This is the best movie I've ever seen! &lt;br /&gt;&lt;...</td>\n",
              "      <td>1</td>\n",
              "    </tr>\n",
              "    <tr>\n",
              "      <th>6</th>\n",
              "      <td>The morbid Catholic writer Gerard Reve (Jeroen...</td>\n",
              "      <td>1</td>\n",
              "    </tr>\n",
              "    <tr>\n",
              "      <th>7</th>\n",
              "      <td>\"Semana Santa\" or \"Angel Of Death\" is a very w...</td>\n",
              "      <td>0</td>\n",
              "    </tr>\n",
              "    <tr>\n",
              "      <th>8</th>\n",
              "      <td>Somebody mastered the difficult task of mergin...</td>\n",
              "      <td>1</td>\n",
              "    </tr>\n",
              "    <tr>\n",
              "      <th>9</th>\n",
              "      <td>Why did I waste 1.5 hours of my life watching ...</td>\n",
              "      <td>0</td>\n",
              "    </tr>\n",
              "  </tbody>\n",
              "</table>\n",
              "</div>"
            ],
            "text/plain": [
              "                                                text  label\n",
              "0  It's been about 14 years since Sharon Stone aw...      0\n",
              "1  someone needed to make a car payment... this i...      0\n",
              "2  The Guidelines state that a comment must conta...      0\n",
              "3  This movie is a muddled mish-mash of clichés f...      0\n",
              "4  Before Stan Laurel became the smaller half of ...      0\n",
              "5  This is the best movie I've ever seen! <br /><...      1\n",
              "6  The morbid Catholic writer Gerard Reve (Jeroen...      1\n",
              "7  \"Semana Santa\" or \"Angel Of Death\" is a very w...      0\n",
              "8  Somebody mastered the difficult task of mergin...      1\n",
              "9  Why did I waste 1.5 hours of my life watching ...      0"
            ]
          },
          "metadata": {
            "tags": []
          },
          "execution_count": 31
        }
      ]
    },
    {
      "cell_type": "code",
      "metadata": {
        "id": "QppGtSAGwVmR",
        "colab": {
          "base_uri": "https://localhost:8080/"
        },
        "outputId": "c1c0d667-c880-4a35-f2c5-eda906a7c603"
      },
      "source": [
        "#select relavant columns\n",
        "train_text = training['text']\n",
        "train_labels = training['label']\n",
        "val_text = validation['text']\n",
        "val_labels= validation['label']\n",
        "print((train_text.shape,train_labels.shape),(val_text.shape,val_labels.shape))\n"
      ],
      "execution_count": null,
      "outputs": [
        {
          "output_type": "stream",
          "text": [
            "((40000,), (40000,)) ((5000,), (5000,))\n"
          ],
          "name": "stdout"
        }
      ]
    },
    {
      "cell_type": "code",
      "metadata": {
        "id": "h3-2m5vHIUW8",
        "colab": {
          "base_uri": "https://localhost:8080/"
        },
        "outputId": "950ac73a-e8de-4610-f01c-ecbc51ff1998"
      },
      "source": [
        "import tensorflow_hub as hub\r\n",
        "import tensorflow as tf\r\n",
        "model = \"https://tfhub.dev/google/nnlm-en-dim50/2\"\r\n",
        "hub_layer = hub.KerasLayer(model, input_shape=[], dtype=tf.string, trainable=True)\r\n",
        "hub_layer(train_text[:3])\r\n"
      ],
      "execution_count": null,
      "outputs": [
        {
          "output_type": "execute_result",
          "data": {
            "text/plain": [
              "<tf.Tensor: shape=(3, 50), dtype=float32, numpy=\n",
              "array([[ 5.8185732e-01,  4.6911396e-02,  1.4982558e-02,  5.1636720e-01,\n",
              "         1.3418637e-01,  2.0513988e-01,  3.5989591e-01, -3.8091433e-01,\n",
              "        -3.9016056e-01,  2.3514288e-03,  1.6379318e-01, -5.4358225e-02,\n",
              "         3.7518714e-02,  2.6488939e-01, -1.4176346e-01, -4.0813681e-01,\n",
              "        -2.9914908e-02, -6.3285897e-03,  2.7274001e-01, -4.9660453e-01,\n",
              "         5.3737951e-03, -1.7461161e-01,  1.4961618e-01,  7.7477440e-02,\n",
              "        -1.5584488e-01,  1.7856244e-02, -6.9198847e-01,  1.5847536e-02,\n",
              "         1.8132752e-01, -3.0787209e-01, -3.1815010e-01,  2.0273647e-01,\n",
              "         3.1920928e-01, -1.2851708e-01, -2.8642291e-01,  3.2772863e-01,\n",
              "         2.3145860e-01,  2.7262459e-02,  3.5119709e-01, -4.9747679e-01,\n",
              "         5.5123735e-02, -8.5279703e-02, -4.4663593e-01,  1.9234100e-01,\n",
              "        -5.8583927e-01,  4.6510212e-02, -4.6434608e-01, -3.6894074e-01,\n",
              "         7.0311345e-02, -1.0152202e-01],\n",
              "       [ 1.3691435e+00,  1.4810678e-01,  1.4473471e-01,  1.1093385e+00,\n",
              "         2.3899315e-01, -1.7865852e-01,  2.4346672e-01, -2.2629406e-01,\n",
              "        -6.8852919e-01,  4.4956645e-01,  6.0895368e-02,  1.9192392e-01,\n",
              "         9.2276456e-03,  3.6045441e-01, -6.0158622e-02, -6.0585982e-01,\n",
              "        -4.3592754e-01,  4.2360649e-01,  1.3001257e-01, -8.5160553e-01,\n",
              "        -1.2510487e-01, -3.8342479e-01,  6.7795265e-01,  1.8468577e-01,\n",
              "        -5.3825307e-01,  2.4478033e-01, -1.6893753e+00,  2.3780955e-01,\n",
              "         1.7734897e-01, -6.8523955e-01, -5.0498253e-01,  4.6119753e-01,\n",
              "         8.1633651e-01, -6.7043740e-01, -2.4392545e-01,  3.9561015e-01,\n",
              "         2.0732774e-01, -2.7498287e-01,  2.6053053e-01, -6.5748525e-01,\n",
              "         8.4126834e-03, -3.3924675e-03, -4.4240439e-01,  3.2313803e-01,\n",
              "        -6.6408199e-01, -4.3312204e-01, -7.9595327e-01, -4.5853603e-01,\n",
              "         3.5035363e-03,  1.4046342e-03],\n",
              "       [ 7.1677214e-01,  2.6160848e-01, -1.6052707e-01,  8.0657619e-01,\n",
              "        -1.2423433e-01,  4.5519650e-02,  2.6162034e-01, -4.5982325e-01,\n",
              "        -7.4728537e-01,  6.2282050e-01,  2.9731637e-01,  2.4142605e-01,\n",
              "        -5.1772702e-02,  8.3374493e-02, -1.8011753e-01, -3.2469565e-01,\n",
              "        -7.4466340e-02,  1.4398302e-01,  3.0644986e-01, -8.6815876e-01,\n",
              "         2.0752884e-01,  1.4382698e-01,  7.6248026e-01, -1.3996209e-01,\n",
              "        -6.2461293e-01,  5.4680425e-01, -1.5582607e+00,  1.0948909e-01,\n",
              "         6.1922693e-01, -4.8092207e-01, -5.0767350e-01, -1.5673213e-02,\n",
              "         7.7028227e-01, -3.3512455e-01, -4.6004352e-01,  2.8965250e-01,\n",
              "         6.7490146e-02, -1.1382725e-01, -2.6370701e-01, -7.3001552e-01,\n",
              "        -9.1714988e-04,  2.0963086e-01, -2.8226626e-01,  2.1715380e-01,\n",
              "        -4.9552855e-01, -4.5968860e-02, -1.6743015e-01, -2.9103288e-01,\n",
              "         2.8352888e-02, -1.9691618e-02]], dtype=float32)>"
            ]
          },
          "metadata": {
            "tags": []
          },
          "execution_count": 5
        }
      ]
    },
    {
      "cell_type": "code",
      "metadata": {
        "id": "Xeg7nhQqw26u",
        "colab": {
          "base_uri": "https://localhost:8080/"
        },
        "outputId": "4709962a-d65d-46d1-9e3a-d1ec082b4488"
      },
      "source": [
        "model = tf.keras.Sequential()\r\n",
        "model.add(hub_layer)\r\n",
        "model.add(tf.keras.layers.Dense(16, activation='relu'))\r\n",
        "model.add(tf.keras.layers.Dense(1))\r\n",
        "\r\n",
        "model.summary()"
      ],
      "execution_count": null,
      "outputs": [
        {
          "output_type": "stream",
          "text": [
            "Model: \"sequential\"\n",
            "_________________________________________________________________\n",
            "Layer (type)                 Output Shape              Param #   \n",
            "=================================================================\n",
            "keras_layer (KerasLayer)     (None, 50)                48190600  \n",
            "_________________________________________________________________\n",
            "dense (Dense)                (None, 16)                816       \n",
            "_________________________________________________________________\n",
            "dense_1 (Dense)              (None, 1)                 17        \n",
            "=================================================================\n",
            "Total params: 48,191,433\n",
            "Trainable params: 48,191,433\n",
            "Non-trainable params: 0\n",
            "_________________________________________________________________\n"
          ],
          "name": "stdout"
        }
      ]
    },
    {
      "cell_type": "code",
      "metadata": {
        "id": "7gBzzg3Ow5w2"
      },
      "source": [
        "model.compile(optimizer='adam',\r\n",
        "              loss=tf.losses.BinaryCrossentropy(from_logits=True),\r\n",
        "              metrics=[tf.metrics.BinaryAccuracy(threshold=0.0, name='accuracy')])"
      ],
      "execution_count": null,
      "outputs": []
    },
    {
      "cell_type": "code",
      "metadata": {
        "id": "GNEFFGZ46qoF",
        "colab": {
          "base_uri": "https://localhost:8080/",
          "height": 369
        },
        "outputId": "a0e7f8f4-9e80-4c5b-9dd8-d418d80a866e"
      },
      "source": [
        "from tensorflow.keras.utils import plot_model\n",
        "plot_model(model, to_file='model.png')"
      ],
      "execution_count": null,
      "outputs": [
        {
          "output_type": "execute_result",
          "data": {
            "image/png": "[encoded data removed]",
            "text/plain": [
              "<IPython.core.display.Image object>"
            ]
          },
          "metadata": {
            "tags": []
          },
          "execution_count": 8
        }
      ]
    },
    {
      "cell_type": "code",
      "metadata": {
        "colab": {
          "base_uri": "https://localhost:8080/"
        },
        "id": "2BNV4aklyA_V",
        "outputId": "226cfcc6-6716-4168-d8f5-1767b7aff607"
      },
      "source": [
        "history = model.fit(train_text,train_labels,validation_data=(val_text, val_labels), epochs=40, batch_size=512)"
      ],
      "execution_count": null,
      "outputs": [
        {
          "output_type": "stream",
          "text": [
            "Epoch 1/40\n",
            "79/79 [==============================] - 6s 53ms/step - loss: 0.6401 - accuracy: 0.6313 - val_loss: 0.4331 - val_accuracy: 0.8206\n",
            "Epoch 2/40\n",
            "79/79 [==============================] - 4s 49ms/step - loss: 0.3563 - accuracy: 0.8667 - val_loss: 0.3065 - val_accuracy: 0.8724\n",
            "Epoch 3/40\n",
            "79/79 [==============================] - 4s 49ms/step - loss: 0.2209 - accuracy: 0.9199 - val_loss: 0.2759 - val_accuracy: 0.8838\n",
            "Epoch 4/40\n",
            "79/79 [==============================] - 4s 49ms/step - loss: 0.1548 - accuracy: 0.9485 - val_loss: 0.2747 - val_accuracy: 0.8858\n",
            "Epoch 5/40\n",
            "79/79 [==============================] - 4s 49ms/step - loss: 0.1070 - accuracy: 0.9689 - val_loss: 0.2894 - val_accuracy: 0.8836\n",
            "Epoch 6/40\n",
            "79/79 [==============================] - 4s 50ms/step - loss: 0.0743 - accuracy: 0.9820 - val_loss: 0.3136 - val_accuracy: 0.8842\n",
            "Epoch 7/40\n",
            "79/79 [==============================] - 4s 49ms/step - loss: 0.0508 - accuracy: 0.9903 - val_loss: 0.3378 - val_accuracy: 0.8808\n",
            "Epoch 8/40\n",
            "79/79 [==============================] - 4s 49ms/step - loss: 0.0359 - accuracy: 0.9947 - val_loss: 0.3743 - val_accuracy: 0.8782\n",
            "Epoch 9/40\n",
            "79/79 [==============================] - 4s 50ms/step - loss: 0.0255 - accuracy: 0.9972 - val_loss: 0.3946 - val_accuracy: 0.8774\n",
            "Epoch 10/40\n",
            "79/79 [==============================] - 4s 49ms/step - loss: 0.0167 - accuracy: 0.9989 - val_loss: 0.4217 - val_accuracy: 0.8762\n",
            "Epoch 11/40\n",
            "79/79 [==============================] - 4s 49ms/step - loss: 0.0120 - accuracy: 0.9993 - val_loss: 0.4495 - val_accuracy: 0.8732\n",
            "Epoch 12/40\n",
            "79/79 [==============================] - 4s 49ms/step - loss: 0.0088 - accuracy: 0.9997 - val_loss: 0.4729 - val_accuracy: 0.8726\n",
            "Epoch 13/40\n",
            "79/79 [==============================] - 4s 49ms/step - loss: 0.0061 - accuracy: 0.9999 - val_loss: 0.4985 - val_accuracy: 0.8712\n",
            "Epoch 14/40\n",
            "79/79 [==============================] - 4s 50ms/step - loss: 0.0048 - accuracy: 0.9999 - val_loss: 0.5177 - val_accuracy: 0.8712\n",
            "Epoch 15/40\n",
            "79/79 [==============================] - 4s 49ms/step - loss: 0.0039 - accuracy: 1.0000 - val_loss: 0.5337 - val_accuracy: 0.8710\n",
            "Epoch 16/40\n",
            "79/79 [==============================] - 4s 50ms/step - loss: 0.0031 - accuracy: 1.0000 - val_loss: 0.5514 - val_accuracy: 0.8702\n",
            "Epoch 17/40\n",
            "79/79 [==============================] - 4s 50ms/step - loss: 0.0028 - accuracy: 0.9999 - val_loss: 0.5673 - val_accuracy: 0.8708\n",
            "Epoch 18/40\n",
            "79/79 [==============================] - 4s 50ms/step - loss: 0.0023 - accuracy: 1.0000 - val_loss: 0.5806 - val_accuracy: 0.8710\n",
            "Epoch 19/40\n",
            "79/79 [==============================] - 4s 49ms/step - loss: 0.0018 - accuracy: 1.0000 - val_loss: 0.5945 - val_accuracy: 0.8702\n",
            "Epoch 20/40\n",
            "79/79 [==============================] - 4s 49ms/step - loss: 0.0015 - accuracy: 1.0000 - val_loss: 0.6104 - val_accuracy: 0.8696\n",
            "Epoch 21/40\n",
            "79/79 [==============================] - 4s 50ms/step - loss: 0.0013 - accuracy: 1.0000 - val_loss: 0.6232 - val_accuracy: 0.8690\n",
            "Epoch 22/40\n",
            "79/79 [==============================] - 4s 49ms/step - loss: 0.0011 - accuracy: 1.0000 - val_loss: 0.6331 - val_accuracy: 0.8702\n",
            "Epoch 23/40\n",
            "79/79 [==============================] - 4s 49ms/step - loss: 9.8938e-04 - accuracy: 1.0000 - val_loss: 0.6442 - val_accuracy: 0.8698\n",
            "Epoch 24/40\n",
            "79/79 [==============================] - 4s 50ms/step - loss: 8.5295e-04 - accuracy: 1.0000 - val_loss: 0.6555 - val_accuracy: 0.8694\n",
            "Epoch 25/40\n",
            "79/79 [==============================] - 4s 49ms/step - loss: 7.5637e-04 - accuracy: 1.0000 - val_loss: 0.6660 - val_accuracy: 0.8692\n",
            "Epoch 26/40\n",
            "79/79 [==============================] - 4s 50ms/step - loss: 6.8182e-04 - accuracy: 1.0000 - val_loss: 0.6738 - val_accuracy: 0.8690\n",
            "Epoch 27/40\n",
            "79/79 [==============================] - 4s 49ms/step - loss: 6.0673e-04 - accuracy: 1.0000 - val_loss: 0.6852 - val_accuracy: 0.8684\n",
            "Epoch 28/40\n",
            "79/79 [==============================] - 4s 49ms/step - loss: 5.4746e-04 - accuracy: 1.0000 - val_loss: 0.6920 - val_accuracy: 0.8694\n",
            "Epoch 29/40\n",
            "79/79 [==============================] - 4s 50ms/step - loss: 4.9920e-04 - accuracy: 1.0000 - val_loss: 0.7023 - val_accuracy: 0.8694\n",
            "Epoch 30/40\n",
            "79/79 [==============================] - 4s 49ms/step - loss: 4.4751e-04 - accuracy: 1.0000 - val_loss: 0.7101 - val_accuracy: 0.8688\n",
            "Epoch 31/40\n",
            "79/79 [==============================] - 4s 50ms/step - loss: 4.2185e-04 - accuracy: 1.0000 - val_loss: 0.7193 - val_accuracy: 0.8686\n",
            "Epoch 32/40\n",
            "79/79 [==============================] - 4s 49ms/step - loss: 3.8087e-04 - accuracy: 1.0000 - val_loss: 0.7267 - val_accuracy: 0.8686\n",
            "Epoch 33/40\n",
            "79/79 [==============================] - 4s 49ms/step - loss: 3.4524e-04 - accuracy: 1.0000 - val_loss: 0.7334 - val_accuracy: 0.8690\n",
            "Epoch 34/40\n",
            "79/79 [==============================] - 4s 50ms/step - loss: 3.2164e-04 - accuracy: 1.0000 - val_loss: 0.7419 - val_accuracy: 0.8682\n",
            "Epoch 35/40\n",
            "79/79 [==============================] - 4s 50ms/step - loss: 2.8084e-04 - accuracy: 1.0000 - val_loss: 0.7506 - val_accuracy: 0.8688\n",
            "Epoch 36/40\n",
            "79/79 [==============================] - 4s 49ms/step - loss: 2.6205e-04 - accuracy: 1.0000 - val_loss: 0.7624 - val_accuracy: 0.8688\n",
            "Epoch 37/40\n",
            "79/79 [==============================] - 4s 49ms/step - loss: 2.3455e-04 - accuracy: 1.0000 - val_loss: 0.7751 - val_accuracy: 0.8686\n",
            "Epoch 38/40\n",
            "79/79 [==============================] - 4s 51ms/step - loss: 1.9914e-04 - accuracy: 1.0000 - val_loss: 0.7905 - val_accuracy: 0.8684\n",
            "Epoch 39/40\n",
            "79/79 [==============================] - 4s 49ms/step - loss: 1.7273e-04 - accuracy: 1.0000 - val_loss: 0.8066 - val_accuracy: 0.8688\n",
            "Epoch 40/40\n",
            "79/79 [==============================] - 4s 50ms/step - loss: 1.4622e-04 - accuracy: 1.0000 - val_loss: 0.8238 - val_accuracy: 0.8690\n"
          ],
          "name": "stdout"
        }
      ]
    },
    {
      "cell_type": "code",
      "metadata": {
        "id": "u-rL1UO27iAO",
        "colab": {
          "base_uri": "https://localhost:8080/"
        },
        "outputId": "f0509e61-3ae7-42b5-995e-bffce0faac22"
      },
      "source": [
        "#mount to google drive so we can save our model there\r\n",
        "from google.colab import drive\r\n",
        "drive.mount('/content/drive')\r\n",
        "path = path = F\"/content/drive/My Drive/semantic_analysis_model\" \r\n"
      ],
      "execution_count": null,
      "outputs": [
        {
          "output_type": "stream",
          "text": [
            "Mounted at /content/drive\n"
          ],
          "name": "stdout"
        }
      ]
    },
    {
      "cell_type": "code",
      "metadata": {
        "id": "zmFDvjE27-lK",
        "colab": {
          "base_uri": "https://localhost:8080/"
        },
        "outputId": "8f28ad41-97da-4c4d-9cc1-e7be532a47ae"
      },
      "source": [
        "model.save(path)"
      ],
      "execution_count": null,
      "outputs": [
        {
          "output_type": "stream",
          "text": [
            "INFO:tensorflow:Assets written to: /content/drive/My Drive/semantic_analysis_model/assets\n"
          ],
          "name": "stdout"
        },
        {
          "output_type": "stream",
          "text": [
            "INFO:tensorflow:Assets written to: /content/drive/My Drive/semantic_analysis_model/assets\n"
          ],
          "name": "stderr"
        }
      ]
    },
    {
      "cell_type": "code",
      "metadata": {
        "id": "PsMcVduTkBBZ",
        "colab": {
          "base_uri": "https://localhost:8080/",
          "height": 499
        },
        "outputId": "9a5f4ded-cef5-4eb2-e32e-f1f5a5f38d04"
      },
      "source": [
        "import matplotlib.pyplot as plt\n",
        "acc = history.history['accuracy']\n",
        "val_acc = history.history['val_accuracy']\n",
        "\n",
        "loss = history.history['loss']\n",
        "val_loss = history.history['val_loss']\n",
        "\n",
        "epochs_range = range(1, 41)\n",
        "\n",
        "plt.figure(figsize=(8, 8))\n",
        "plt.subplot(1, 2, 1)\n",
        "plt.plot(epochs_range, acc, label='Training Accuracy')\n",
        "plt.plot(epochs_range, val_acc, label='Validation Accuracy')\n",
        "plt.legend(loc='lower right')\n",
        "plt.title('Training and Validation Accuracy')\n",
        "\n",
        "plt.subplot(1, 2, 2)\n",
        "plt.plot(epochs_range, loss, label='Training Loss')\n",
        "plt.plot(epochs_range, val_loss, label='Validation Loss')\n",
        "plt.legend(loc='upper right')\n",
        "plt.title('Training and Validation Loss')\n",
        "plt.show()"
      ],
      "execution_count": null,
      "outputs": [
        {
          "output_type": "display_data",
          "data": {
            "image/png": "[encoded data removed]",
            "text/plain": [
              "<Figure size 576x576 with 2 Axes>"
            ]
          },
          "metadata": {
            "tags": [],
            "needs_background": "light"
          }
        }
      ]
    },
    {
      "cell_type": "code",
      "metadata": {
        "colab": {
          "base_uri": "https://localhost:8080/"
        },
        "id": "XVfMv6DoTj_i",
        "outputId": "cbc469e2-069c-4fb5-c669-03269a6b0bcf"
      },
      "source": [
        "import numpy as np\r\n",
        "#these reviews were slapped right off of Rotten Tomatoes (so the model has no chance of having seen them). Try and guess which movie they came from!\r\n",
        "negative_text = ('This recycled garbage was my displeasure of seeing, its poorly paced and badly written story line was painful to sit through and the under developed cut out characters where boring to watch, its shoehorned in themes added nothing to the movie and were too underdeveloped to make an impact.')\r\n",
        "positive_text = ('A perfect myriad of soundtrack and cinematography in the best war film and one of the greatest films of all time. Haunting visuals and outstanding dialogue drenched in style. Some of the most iconic and impactful shots ever recorded, in a relentlessly vicious yet controlled manner. This movie comfortably rests upon the upper echelon of cinematic history.')\r\n",
        "def predicter(x):\r\n",
        "  predictions = model.predict(np.array([x]))\r\n",
        "  if predictions > 0:\r\n",
        "    print(\"positive\")\r\n",
        "  elif predictions< 1:\r\n",
        "    print(\"negative\")\r\n",
        "  \r\n",
        "predicter(negative_text)\r\n",
        "predicter(positive_text)"
      ],
      "execution_count": null,
      "outputs": [
        {
          "output_type": "stream",
          "text": [
            "negative\n",
            "positive\n"
          ],
          "name": "stdout"
        }
      ]
    }
  ]
}